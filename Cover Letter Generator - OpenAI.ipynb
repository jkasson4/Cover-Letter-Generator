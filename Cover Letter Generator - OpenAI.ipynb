{
 "cells": [
  {
   "cell_type": "code",
   "execution_count": 1,
   "id": "14a5f9d2-f90b-4c9c-b895-42af29f3dad5",
   "metadata": {},
   "outputs": [],
   "source": [
    "from openai import OpenAI\n",
    "\n",
    "# Avg cost per usage <$0.01\n",
    "\n",
    "# Paths to files -- Adjust before use\n",
    "key_path = r'C:\\open-ai\\key.txt'\n",
    "resume_path = r'C:\\open-ai\\resume.txt'\n",
    "description_path = r'C:\\open-ai\\description.txt'\n",
    "\n",
    "# Today's date -- Adjust before use\n",
    "date = \"January 28th, 2025\""
   ]
  },
  {
   "cell_type": "code",
   "execution_count": 2,
   "id": "5eb00b9d-6fdd-40ba-b934-b53be8c8c064",
   "metadata": {},
   "outputs": [],
   "source": [
    "# Read files\n",
    "key_file = open(key_path, \"r\")\n",
    "key = key_file.read()\n",
    "key_file.close()\n",
    "\n",
    "resume_file = open(resume_path, \"r\")\n",
    "resume = resume_file.read()\n",
    "resume_file.close()\n",
    "\n",
    "description_file = open(description_path, \"r\")\n",
    "description = description_file.read()\n",
    "description_file.close()"
   ]
  },
  {
   "cell_type": "code",
   "execution_count": 3,
   "id": "a6fb01ea-defc-4349-be3c-12583ec4f9f8",
   "metadata": {},
   "outputs": [],
   "source": [
    "# OpenAI API key applied\n",
    "client = OpenAI(\n",
    "  api_key=key\n",
    ")"
   ]
  },
  {
   "cell_type": "code",
   "execution_count": 4,
   "id": "55f1da29-c587-43e5-aece-1c87e75c92e5",
   "metadata": {},
   "outputs": [],
   "source": [
    "# Model instructions -- Customize to alter output -- Adjust before use\n",
    "developer_text = \"\"\"Write a cover letter based on the input job description.\n",
    "Maximum 3 paragraphs.\n",
    "Use a professional and enthusiastic tone.\n",
    "Emphasize upcoming graduating date.\n",
    "Utilize abbreviations.\n",
    "Do not say 'as advertised'.\n",
    "Do not use '[' or ']'.\n",
    "Include key points from the following resume:\\n\\n\"\"\" + resume + \"\\n\\nDate: \" + date"
   ]
  },
  {
   "cell_type": "code",
   "execution_count": 5,
   "id": "3f09b2ba-67fc-4803-99d5-67803f4b06f7",
   "metadata": {},
   "outputs": [],
   "source": [
    "# Generate cover letter -- Model may be customized, but gpt-4o-mini seems to be sufficient\n",
    "completion = client.chat.completions.create(\n",
    "  model=\"gpt-4o-mini\",\n",
    "  store=True,\n",
    "  messages=[\n",
    "    {\"role\": \"developer\", \"content\": developer_text },\n",
    "    {\"role\": \"user\", \"content\": description}\n",
    "  ],\n",
    "  max_tokens=1000\n",
    ")"
   ]
  },
  {
   "cell_type": "code",
   "execution_count": 6,
   "id": "4096d5e8-1d90-4104-8cf1-f6f81aa1a452",
   "metadata": {},
   "outputs": [
    {
     "name": "stdout",
     "output_type": "stream",
     "text": [
      "John Kasson  \n",
      "5050 Haverwood Ln #232  \n",
      "Dallas, TX 75287  \n",
      "jkasson4@gmail.com  \n",
      "(512) 993-9020  \n",
      "January 28, 2025  \n",
      "\n",
      "Hiring Manager  \n",
      "REDACTED  \n",
      "123 Sesame St  \n",
      "Manhattan, NY 10123  \n",
      "\n",
      "Dear Hiring Manager,  \n",
      "\n",
      "I am excited to apply for the Chatbot Developer position at REDACTED. As a current Computer Science student at the University of Texas at Dallas, graduating in May 2025 with a GPA of 3.93, I bring strong programming and software development skills, along with specialized experience in Natural Language Processing (NLP) and Machine Learning. My recent role as an AI Data Engineer at Outlier AI has equipped me with hands-on skills in assessing the performance of large language models, and I believe these experiences would perfectly align with REDACTED's mission to engage and support people living with diabetes through innovative technology.  \n",
      "\n",
      "In my current position, I have successfully improved model performance by writing training data in areas such as weak mathematical concepts and reviewing datasets for integrity. I have also developed RNN classification models utilizing Tensorflow, achieving impressive accuracy rates in spam detection and fraud classification. My ability to work independently and effectively solve problems will contribute to enhancing the virtual in-app character's capabilities at REDACTED, ensuring that users receive an engaging and motivating experience as they manage their health.  \n",
      "\n",
      "I am particularly drawn to REDACTED's mission of making diabetes management enjoyable and effective through interactive technology. With my technical expertise in programming languages, machine learning frameworks, and a passion for healthcare technology, I am eager to leverage my skills to contribute to your innovative platform. Thank you for considering my application; I look forward to the opportunity to discuss how my background and enthusiasm can be a valuable asset to REDACTED.  \n",
      "\n",
      "Sincerely,   \n",
      "John Kasson  \n"
     ]
    }
   ],
   "source": [
    "# Output final result\n",
    "print(completion.choices[0].message.content)"
   ]
  }
 ],
 "metadata": {
  "kernelspec": {
   "display_name": "Python 3 (ipykernel)",
   "language": "python",
   "name": "python3"
  },
  "language_info": {
   "codemirror_mode": {
    "name": "ipython",
    "version": 3
   },
   "file_extension": ".py",
   "mimetype": "text/x-python",
   "name": "python",
   "nbconvert_exporter": "python",
   "pygments_lexer": "ipython3",
   "version": "3.12.8"
  }
 },
 "nbformat": 4,
 "nbformat_minor": 5
}
