{
 "cells": [
  {
   "cell_type": "code",
   "execution_count": 1,
   "id": "14a5f9d2-f90b-4c9c-b895-42af29f3dad5",
   "metadata": {},
   "outputs": [],
   "source": [
    "# Load packages\n",
    "from openai import OpenAI\n",
    "from datetime import date\n",
    "\n",
    "# Avg cost per usage <$0.01\n",
    "\n",
    "# Files to adjust once\n",
    "# 'key.txt' - OpenAI API key\n",
    "# 'user-header.txt' - Header of user information\n",
    "# 'resume.txt' - User's resume (Narrow down for better results)\n",
    "# 'closer.txt' - User's closer (ex. Sincerily,\\n[Name])\n",
    "\n",
    "# Files to adjust before each use\n",
    "# 'position-header.txt' - Header of position information\n",
    "# 'description.txt' - Description of job posting\n",
    "\n",
    "# Paths to files -- Adjust prior to use\n",
    "key_path = '/home/pi/keys/openai-key.txt'\n",
    "user_header_path = '/home/pi/cover-letter/user-header.txt'\n",
    "resume_path = '/home/pi/cover-letter/resume.txt'\n",
    "closer_path = '/home/pi/cover-letter/closer.txt'\n",
    "position_header_path = '/home/pi/cover-letter/position-header.txt'\n",
    "description_path = '/home/pi/cover-letter/description.txt'"
   ]
  },
  {
   "cell_type": "code",
   "execution_count": 2,
   "id": "a4151bd8-fec1-42da-9b16-86608034e67f",
   "metadata": {},
   "outputs": [],
   "source": [
    "# Generate date\n",
    "curr_date = date.today().strftime(\"%B %d, %Y\")"
   ]
  },
  {
   "cell_type": "code",
   "execution_count": 3,
   "id": "5eb00b9d-6fdd-40ba-b934-b53be8c8c064",
   "metadata": {},
   "outputs": [],
   "source": [
    "# Read files\n",
    "key_file = open(key_path, \"r\")\n",
    "key = key_file.read()\n",
    "key_file.close()\n",
    "\n",
    "user_head_file = open(user_header_path, \"r\")\n",
    "user_head = user_head_file.read()\n",
    "user_head_file.close()\n",
    "\n",
    "pos_head_file = open(position_header_path, \"r\")\n",
    "pos_head = pos_head_file.read()\n",
    "pos_head_file.close()\n",
    "\n",
    "resume_file = open(resume_path, \"r\")\n",
    "resume = resume_file.read()\n",
    "resume_file.close()\n",
    "\n",
    "description_file = open(description_path, \"r\")\n",
    "description = description_file.read()\n",
    "description_file.close()\n",
    "\n",
    "closer_file = open(closer_path, \"r\")\n",
    "closer = closer_file.read()\n",
    "closer_file.close()"
   ]
  },
  {
   "cell_type": "code",
   "execution_count": 4,
   "id": "a6fb01ea-defc-4349-be3c-12583ec4f9f8",
   "metadata": {},
   "outputs": [],
   "source": [
    "# OpenAI API key applied\n",
    "client = OpenAI(\n",
    "  api_key=key\n",
    ")"
   ]
  },
  {
   "cell_type": "code",
   "execution_count": 5,
   "id": "55f1da29-c587-43e5-aece-1c87e75c92e5",
   "metadata": {},
   "outputs": [],
   "source": [
    "# Model instructions -- Customize to alter output -- Adjust before use\n",
    "developer_text = \"\"\"Write the body of a cover letter based on the input job description.\n",
    "Maximum 3 paragraphs.\n",
    "Use a professional and enthusiastic tone.\n",
    "Emphasize upcoming graduating date.\n",
    "Utilize abbreviations.\n",
    "Say 'Dear Hiring Manager,'.\n",
    "Do not use a closer.\n",
    "Do not say 'as advertised'.\n",
    "Include key points from the following resume:\\n\\n\"\"\" + resume"
   ]
  },
  {
   "cell_type": "code",
   "execution_count": 6,
   "id": "3f09b2ba-67fc-4803-99d5-67803f4b06f7",
   "metadata": {},
   "outputs": [],
   "source": [
    "# Generate cover letter -- Model may be customized, but gpt-4o-mini seems to be sufficient\n",
    "completion = client.chat.completions.create(\n",
    "  model=\"gpt-4o-mini\",\n",
    "  store=True,\n",
    "  messages=[\n",
    "    {\"role\": \"developer\", \"content\": developer_text },\n",
    "    {\"role\": \"user\", \"content\": description}\n",
    "  ],\n",
    "  max_tokens=1000\n",
    ")"
   ]
  },
  {
   "cell_type": "code",
   "execution_count": 7,
   "id": "4096d5e8-1d90-4104-8cf1-f6f81aa1a452",
   "metadata": {},
   "outputs": [
    {
     "name": "stdout",
     "output_type": "stream",
     "text": [
      "John Kasson\n",
      "5050 Haverwood Ln #232\n",
      "Dallas, TX 75287\n",
      "jkasson4@gmail.com\n",
      "(512) 993-9020\n",
      "February 04, 2025\n",
      "\n",
      "Hiring Manager\n",
      "REDACTED\n",
      "123 Sesame St\n",
      "Manhattan, NY 10123\n",
      "\n",
      "Dear Hiring Manager,\n",
      "\n",
      "I am excited to apply for the AI/Machine Learning Engineer position at REDACTED, as I am passionate about using technology to make meaningful connections and enhance mental health outcomes. I am on track to graduate with a Bachelor of Science in Computer Science from the University of Texas at Dallas in May 2025, where I have maintained a GPA of 3.93. My coursework in Machine Learning, along with hands-on project experience, makes me well-equipped to design, build, and implement predictive models tailored to user behavior and mental health assessment.\n",
      "\n",
      "Currently, I work as an AI Data Engineer at Outlier AI, where I assess the performance of large language models using extensive data sets. This experience has provided me with a strong foundation in machine learning techniques, particularly in training data management and model optimization. I have successfully implemented predictive models, such as RNN classification models that achieved impressive accuracy rates, showcasing my ability to handle complex data and deliver robust predictions. My proficiency in Python and experience with TensorFlow will seamlessly transfer to the responsibilities of developing and optimizing machine learning models for your mobile app.\n",
      "\n",
      "Moreover, my work in academic projects, where I constructed a MySQL database and developed web applications, has given me a strong understanding of data privacy and secure data handling practices. I am eager to collaborate with interdisciplinary teams to ensure smooth integration of models and contribute to a platform that fosters connections among individuals facing isolation. I am thrilled about the opportunity to contribute my skills to REDACTED and support your mission of enhancing user engagement through predictive AI.\n",
      "\n",
      "Regards,\n",
      "John Kasson\n"
     ]
    }
   ],
   "source": [
    "# Output final result\n",
    "print(user_head + \"\\n\" + curr_date + \"\\n\\n\" + pos_head + \"\\n\\n\" + completion.choices[0].message.content + \"\\n\\n\" + closer)"
   ]
  }
 ],
 "metadata": {
  "kernelspec": {
   "display_name": "Python 3 (ipykernel)",
   "language": "python",
   "name": "python3"
  },
  "language_info": {
   "codemirror_mode": {
    "name": "ipython",
    "version": 3
   },
   "file_extension": ".py",
   "mimetype": "text/x-python",
   "name": "python",
   "nbconvert_exporter": "python",
   "pygments_lexer": "ipython3",
   "version": "3.11.2"
  }
 },
 "nbformat": 4,
 "nbformat_minor": 5
}
